{
 "cells": [
  {
   "cell_type": "raw",
   "id": "567d9968",
   "metadata": {},
   "source": [
    "Name : Zhanwei Wang"
   ]
  },
  {
   "cell_type": "code",
   "execution_count": 196,
   "id": "e150ccb0",
   "metadata": {},
   "outputs": [],
   "source": [
    "import re"
   ]
  },
  {
   "cell_type": "markdown",
   "id": "9aa8d15e",
   "metadata": {},
   "source": [
    "# Assignment 2: Analyzing large datasets with Spark. \n",
    "\n",
    "For this assignment, you will need to make sure you're running from a PySpark docker environment I introduced in class. You can start the docker pySpark docker environment using the following command:\n",
    "\n",
    "```\n",
    "docker run --rm -p 4040:4040 -p 8888:8888 -v $(pwd):/home/jovyan/work jupyter/all-spark-notebook\n",
    "```\n",
    "\n",
    "Make sure you run the command from the directory containing this jupyter notebook and your data folder.\n",
    "\n",
    "\n",
    "</b>\n",
    "# WARNING: For some reason, ipynbb document didn't always sync properly when I was pushing to github. As such, please push often and make sure your incremental changes appear on GitHub.\n",
    "</b>"
   ]
  },
  {
   "cell_type": "markdown",
   "id": "66b0d3e6",
   "metadata": {},
   "source": [
    "### Part 1\n",
    "\n",
    "The first part will use Spark to analyze the following books, which I have downloaded for you to use from Project Gutenberg. The files are saved to the data folder.\n",
    "\n",
    "| File name | Book Title|\n",
    "|:---------:|:----------|\n",
    "|43.txt | The Strange Case of Dr. Jekyll and Mr. Hyde by Robert Louis Stevenson|\n",
    "|84.txt | Frankenstein; Or, The Modern Prometheus by Mary Wollstonecraft Shelley |\n",
    "|398.txt  | The First Book of Adam and Eve by Rutherford Hayes Platt|\n",
    "|3296.txt | The Confessions of St. Augustine by Bishop of Hippo Saint Augustine|\n",
    "\n",
    "The objective is to explore whether we can detect similarity between books within the same topic using word-based similarity. \n",
    "\n",
    "The task of identifying similar texts in Natural Language Processing is crucial. A naive method for determining whether two documents are similar is to treat them as collections of words (bag of words) and use the number of words they share as a proxy for their similarity. It makes sense that two books with religion as the topic (e.g.  `398.txt` and `3296.txt`) would have more words in common than a book that discusses religion and a book that discusses science fiction (e.g. books `84.txt` and `398.txt`). \n",
    "\n",
    "As mentioned above, we will be using Spark to analyze the data. Although Spark is not needed for such a small example, the platform would be ideal for analyzing very large collections of documents, like those often analyzed by large corporations\n",
    "\n",
    "This part of the assignment will rely exclusively on RDDs."
   ]
  },
  {
   "cell_type": "markdown",
   "id": "87a15530",
   "metadata": {},
   "source": [
    "### Q1. \n",
    "Start by importing Spark and making sure your environment is set up properly for the assignment.\n",
    "\n",
    "Import the spark context necessary to load a document as an RDD; ignore any error messages"
   ]
  },
  {
   "cell_type": "code",
   "execution_count": 152,
   "id": "e80df4d4",
   "metadata": {},
   "outputs": [
    {
     "ename": "ValueError",
     "evalue": "Cannot run multiple SparkContexts at once; existing SparkContext(app=pyspark-shell, master=local[*]) created by __init__ at /tmp/ipykernel_36/3976109334.py:4 ",
     "output_type": "error",
     "traceback": [
      "\u001b[0;31m---------------------------------------------------------------------------\u001b[0m",
      "\u001b[0;31mValueError\u001b[0m                                Traceback (most recent call last)",
      "\u001b[0;32m/tmp/ipykernel_36/3976109334.py\u001b[0m in \u001b[0;36m<module>\u001b[0;34m\u001b[0m\n\u001b[1;32m      2\u001b[0m \u001b[0;32mimport\u001b[0m \u001b[0mpyspark\u001b[0m\u001b[0;34m\u001b[0m\u001b[0;34m\u001b[0m\u001b[0m\n\u001b[1;32m      3\u001b[0m \u001b[0;32mfrom\u001b[0m \u001b[0mpyspark\u001b[0m \u001b[0;32mimport\u001b[0m \u001b[0mSparkContext\u001b[0m\u001b[0;34m\u001b[0m\u001b[0;34m\u001b[0m\u001b[0m\n\u001b[0;32m----> 4\u001b[0;31m \u001b[0msc\u001b[0m\u001b[0;34m=\u001b[0m \u001b[0mSparkContext\u001b[0m\u001b[0;34m(\u001b[0m\u001b[0;34m)\u001b[0m\u001b[0;34m\u001b[0m\u001b[0;34m\u001b[0m\u001b[0m\n\u001b[0m",
      "\u001b[0;32m/usr/local/spark/python/pyspark/context.py\u001b[0m in \u001b[0;36m__init__\u001b[0;34m(self, master, appName, sparkHome, pyFiles, environment, batchSize, serializer, conf, gateway, jsc, profiler_cls)\u001b[0m\n\u001b[1;32m    142\u001b[0m                 \" is not allowed as it is a security risk.\")\n\u001b[1;32m    143\u001b[0m \u001b[0;34m\u001b[0m\u001b[0m\n\u001b[0;32m--> 144\u001b[0;31m         \u001b[0mSparkContext\u001b[0m\u001b[0;34m.\u001b[0m\u001b[0m_ensure_initialized\u001b[0m\u001b[0;34m(\u001b[0m\u001b[0mself\u001b[0m\u001b[0;34m,\u001b[0m \u001b[0mgateway\u001b[0m\u001b[0;34m=\u001b[0m\u001b[0mgateway\u001b[0m\u001b[0;34m,\u001b[0m \u001b[0mconf\u001b[0m\u001b[0;34m=\u001b[0m\u001b[0mconf\u001b[0m\u001b[0;34m)\u001b[0m\u001b[0;34m\u001b[0m\u001b[0;34m\u001b[0m\u001b[0m\n\u001b[0m\u001b[1;32m    145\u001b[0m         \u001b[0;32mtry\u001b[0m\u001b[0;34m:\u001b[0m\u001b[0;34m\u001b[0m\u001b[0;34m\u001b[0m\u001b[0m\n\u001b[1;32m    146\u001b[0m             self._do_init(master, appName, sparkHome, pyFiles, environment, batchSize, serializer,\n",
      "\u001b[0;32m/usr/local/spark/python/pyspark/context.py\u001b[0m in \u001b[0;36m_ensure_initialized\u001b[0;34m(cls, instance, gateway, conf)\u001b[0m\n\u001b[1;32m    340\u001b[0m \u001b[0;34m\u001b[0m\u001b[0m\n\u001b[1;32m    341\u001b[0m                     \u001b[0;31m# Raise error if there is already a running Spark context\u001b[0m\u001b[0;34m\u001b[0m\u001b[0;34m\u001b[0m\u001b[0m\n\u001b[0;32m--> 342\u001b[0;31m                     raise ValueError(\n\u001b[0m\u001b[1;32m    343\u001b[0m                         \u001b[0;34m\"Cannot run multiple SparkContexts at once; \"\u001b[0m\u001b[0;34m\u001b[0m\u001b[0;34m\u001b[0m\u001b[0m\n\u001b[1;32m    344\u001b[0m                         \u001b[0;34m\"existing SparkContext(app=%s, master=%s)\"\u001b[0m\u001b[0;34m\u001b[0m\u001b[0;34m\u001b[0m\u001b[0m\n",
      "\u001b[0;31mValueError\u001b[0m: Cannot run multiple SparkContexts at once; existing SparkContext(app=pyspark-shell, master=local[*]) created by __init__ at /tmp/ipykernel_36/3976109334.py:4 "
     ]
    }
   ],
   "source": [
    "### Write your code here\n",
    "import pyspark\n",
    "from pyspark import SparkContext\n",
    "sc= SparkContext()"
   ]
  },
  {
   "cell_type": "markdown",
   "id": "336d5c9d",
   "metadata": {},
   "source": [
    "### Q2 \n",
    "\n",
    "Read in the file `43.txt` as a spark RDD and save it to a variable called `book_43`\n",
    " * make sure `book_43` is of type MapPartitionsRDD, i.e.,\n",
    "   * str(type(book_43)) == \"<class 'pyspark.rdd.RDD'>\" should return True "
   ]
  },
  {
   "cell_type": "code",
   "execution_count": 116,
   "id": "3d4164f5",
   "metadata": {},
   "outputs": [
    {
     "data": {
      "text/plain": [
       "True"
      ]
     },
     "execution_count": 116,
     "metadata": {},
     "output_type": "execute_result"
    }
   ],
   "source": [
    "### Write your code here\n",
    "book_43 = sc.textFile('data/43.txt')\n",
    "str(type(book_43)) == \"<class 'pyspark.rdd.RDD'>\""
   ]
  },
  {
   "cell_type": "markdown",
   "id": "0b8c051e",
   "metadata": {},
   "source": [
    "### Q3\n",
    "\n",
    "How many lines does `book_43` contain?\n",
    "* You can only use operations or actions on RDDs to answer the question. \n",
    "  * Code that uses methods such as `some_rdd.X().Y().Z()...` is allowed\n",
    "  * Code that uses functions such as `some_func(...)` is not allowed"
   ]
  },
  {
   "cell_type": "code",
   "execution_count": 118,
   "id": "b3c5a06e",
   "metadata": {},
   "outputs": [
    {
     "name": "stdout",
     "output_type": "stream",
     "text": [
      "Number of objects in the RDD is 2935\n"
     ]
    }
   ],
   "source": [
    "### Write your code here\n",
    "book_43_rdd_size = book_43.count()\n",
    "print(f\"Number of objects in the RDD is {book_43_rdd_size}\")"
   ]
  },
  {
   "cell_type": "markdown",
   "id": "bca2bc6d",
   "metadata": {},
   "source": [
    "### Q4 \n",
    "\n",
    "Prior to analyzing the words contained in this book, we need to first remove the occurrences of non-alphabetical characters and numbers from the text. You can use the following function, which takes a line as input, removes digits and non-word characters, and splits it into a collection of words. \n",
    "\n",
    "```python\n",
    "def clean_split_line(line):\n",
    "    a = re.sub('\\d+', '', line)\n",
    "    b = re.sub('[\\W]+', ' ', a)\n",
    "    return b.upper().split()\n",
    "```\n",
    "\n",
    "Use the fucntion above on the variable (test_line) to see what it returns.\n",
    "```python\n",
    "test_line = \"This is an example of that contains 234 and a dash-containing number\"\n",
    "```"
   ]
  },
  {
   "cell_type": "code",
   "execution_count": 119,
   "id": "55ce2754",
   "metadata": {},
   "outputs": [
    {
     "data": {
      "text/plain": [
       "['THIS',\n",
       " 'IS',\n",
       " 'AN',\n",
       " 'EXAMPLE',\n",
       " 'OF',\n",
       " 'THAT',\n",
       " 'CONTAINS',\n",
       " 'AND',\n",
       " 'A',\n",
       " 'DASH',\n",
       " 'CONTAINING',\n",
       " 'NUMBER']"
      ]
     },
     "execution_count": 119,
     "metadata": {},
     "output_type": "execute_result"
    }
   ],
   "source": [
    "### Write your code here\n",
    "def clean_split_line(line):\n",
    "    a = re.sub('\\d+', '', line)\n",
    "    b = re.sub('[\\W]+', ' ', a)\n",
    "    return b.upper().split()\n",
    "test_line = \"This is an example of that contains 234 and a dash-containing number\"\n",
    "clean_split_line(test_line)"
   ]
  },
  {
   "cell_type": "markdown",
   "id": "b5e951e5",
   "metadata": {},
   "source": [
    "### Q5\n",
    "\n",
    "How many words does `book_43` contain? To answer this question, you may find it useful to apply the function in a spark-fashion. \n",
    "* You can only use operations or actions on RDDs to answer the question. \n",
    "  * Code that uses methods such as `some_rdd.X().Y().Z()...` is allowed\n",
    "  * Code that uses functions such as `some_func(...)` is not allowed\n"
   ]
  },
  {
   "cell_type": "code",
   "execution_count": 120,
   "id": "5e1d66fa",
   "metadata": {},
   "outputs": [
    {
     "data": {
      "text/plain": [
       "29116"
      ]
     },
     "execution_count": 120,
     "metadata": {},
     "output_type": "execute_result"
    }
   ],
   "source": [
    "counts = book_43.flatMap(clean_split_line)\n",
    "counts.take(10)\n",
    "counts.count()"
   ]
  },
  {
   "cell_type": "markdown",
   "id": "30d62952",
   "metadata": {},
   "source": [
    "### Q6\n",
    "\n",
    "How many of the words in book_43 are unique? Given that words can appear in lower, upper or mixed case (ex. The, THE, the), make sure you convert the words into lower case before counting them.\n"
   ]
  },
  {
   "cell_type": "code",
   "execution_count": 121,
   "id": "07785c77",
   "metadata": {
    "scrolled": true
   },
   "outputs": [
    {
     "data": {
      "text/plain": [
       "4296"
      ]
     },
     "execution_count": 121,
     "metadata": {},
     "output_type": "execute_result"
    }
   ],
   "source": [
    "### Write your code here\n",
    "book_43_counts = book_43.flatMap(clean_split_line).map(lambda x : (x.lower()))\n",
    "book_43_counts.count()\n",
    "book_43_unique_counts = book_43_counts.distinct().count()\n",
    "book_43_unique_counts"
   ]
  },
  {
   "cell_type": "markdown",
   "id": "91b13b79",
   "metadata": {},
   "source": [
    "### Q7\n",
    "\n",
    "* Generate an `RDD` that contains the frequency of each word in `book_43`. Call the variable `book_43_counts`. Each item in the `RDD` should be a tuple with the word as the first element of the tuple and the count as the second item of the tuple. The collection should look like the following:\n",
    "\n",
    "[('project', 88), (\"the\", 1807), ... ]\n",
    "\n",
    "* Such a collection may contain a large number of words and it would be imprudent to transfer all the words onto the same machine to display it. Instead, to explore the content of such a collection, display only the first element in your list. \n",
    "\n",
    "* Given the random nature of this operation, the first element element displayed may be different. The first entry for me was:\n",
    "```\n",
    "[('project', 88)]\n",
    "```\n",
    "\n",
    "* You can only use operations or actions to answer the question. \n",
    "* Code that uses methods such as `some_rdd.X().Y().Z()...` is allowed\n",
    "* Code that uses functions such as `some_func(...)` is not allowed\n"
   ]
  },
  {
   "cell_type": "code",
   "execution_count": 122,
   "id": "42729b95",
   "metadata": {},
   "outputs": [
    {
     "data": {
      "text/plain": [
       "[('project', 88),\n",
       " ('gutenberg', 98),\n",
       " ('ebook', 13),\n",
       " ('of', 1068),\n",
       " ('strange', 24),\n",
       " ('mr', 128),\n",
       " ('hyde', 105),\n",
       " ('robert', 3),\n",
       " ('stevenson', 3),\n",
       " ('this', 195)]"
      ]
     },
     "execution_count": 122,
     "metadata": {},
     "output_type": "execute_result"
    }
   ],
   "source": [
    "### Write your code here\n",
    "\n",
    "word_map = book_43.flatMap(clean_split_line).map(lambda x : (x.lower(),1))\n",
    "word_map.take(10)\n",
    "book_43_counts = word_map.reduceByKey(lambda x,y: x+y)\n",
    "book_43_counts.take(10)\n"
   ]
  },
  {
   "cell_type": "markdown",
   "id": "1ee4534c",
   "metadata": {},
   "source": [
    "### Q8\n",
    "\n",
    "Sort `book_43_counts` and print the 20 most frequent words in book_43. \n",
    "  * Hint: function `sortByKey` sorts a collection of tuples on the first element element of the list. You can easily change the order of the items in each element and use `sortByKey` to sort on the second item of each element in `book_43_counts`\n",
    "  * You can only use operations or actions to answer the question. \n",
    "  * Code that uses methods such as `some_rdd.X().Y().Z()...` is allowed\n",
    "  * Code that uses functions such as `some_func(...)` is not allowed"
   ]
  },
  {
   "cell_type": "code",
   "execution_count": 123,
   "id": "d51b8ea9",
   "metadata": {},
   "outputs": [
    {
     "data": {
      "text/plain": [
       "[(1807, 'the'),\n",
       " (1068, 'of'),\n",
       " (1043, 'and'),\n",
       " (726, 'to'),\n",
       " (686, 'a'),\n",
       " (646, 'i'),\n",
       " (485, 'in'),\n",
       " (471, 'was'),\n",
       " (392, 'that'),\n",
       " (384, 'he'),\n",
       " (378, 'it'),\n",
       " (312, 'you'),\n",
       " (308, 'my'),\n",
       " (301, 'with'),\n",
       " (285, 'his'),\n",
       " (244, 'had'),\n",
       " (203, 'as'),\n",
       " (202, 'for'),\n",
       " (195, 'this'),\n",
       " (193, 'but')]"
      ]
     },
     "execution_count": 123,
     "metadata": {},
     "output_type": "execute_result"
    }
   ],
   "source": [
    "### Write your code here\n",
    "#book_43_counts.sortByKey()\n",
    "aa = book_43_counts.map(lambda x:(x[1],x[0])) \\\n",
    ".sortByKey(False)\n",
    "aa.take(20)"
   ]
  },
  {
   "cell_type": "markdown",
   "id": "13420b09",
   "metadata": {},
   "source": [
    "### Q9\n",
    "\n",
    "You must have noted that the most frequent words in `book_43_counts` include stop words such as `of`, `the`, `and`, etc.\n",
    "\n",
    "It would be inefficient to compare documents based on whether or not they contain stop words; those are common to all documents. As such, it's common to remove such stop words. The librarary `sklearn.feature_extraction` provides access to a collection of English stop words, which can be loaded using the following snippet:\n",
    "\n",
    "```\n",
    "from sklearn.feature_extraction import stop_words\n",
    "stop_words.ENGLISH_STOP_WORDS\n",
    "```\n",
    "\n",
    "* Explore ENGLISH_STOP_WORDS (it's a frozen set data structure, i.e., a set that you cannot modify) by printing any 10 words from it. \n",
    " * Hint: convert the frozen set to something you can subscript\n"
   ]
  },
  {
   "cell_type": "code",
   "execution_count": 124,
   "id": "0e0ad996",
   "metadata": {},
   "outputs": [
    {
     "name": "stdout",
     "output_type": "stream",
     "text": [
      "['had', 'herein', 'together', 'mostly', 'we', 'otherwise', 'becoming', 'same', 'again', 'ie']\n"
     ]
    }
   ],
   "source": [
    "### Write your code here\n",
    "import sklearn\n",
    "from sklearn.feature_extraction import _stop_words\n",
    "stwords = _stop_words.ENGLISH_STOP_WORDS\n",
    "print(list(stwords)[:10])"
   ]
  },
  {
   "cell_type": "markdown",
   "id": "625eb521",
   "metadata": {},
   "source": [
    "### Q10\n",
    "\n",
    "Filter out the words in `book_43_counts` by removing those that appear in the ENGLISH_STOP_WORDS.\n",
    "Save the results to a new variable called `book_43_counts_filtered`\n",
    "  * You can only use operarations or actions on RDDs to answer the question. \n",
    "  * Code that uses methods such as `some_rdd.X().Y().Z()...` is allowed\n",
    "  * Code that uses function such as `some_func(...)` is not allowed\n"
   ]
  },
  {
   "cell_type": "code",
   "execution_count": 125,
   "id": "5602b4ff",
   "metadata": {},
   "outputs": [],
   "source": [
    "### Write your code here\n",
    "list_of_stop_words = list(_stop_words.ENGLISH_STOP_WORDS)\n",
    "list_of_stop_words\n",
    "book_43_counts_filtered = book_43_counts.filter(lambda x: x[0] not in list_of_stop_words)"
   ]
  },
  {
   "cell_type": "markdown",
   "id": "3d0b3a80",
   "metadata": {},
   "source": [
    "### Q11\n",
    "\n",
    "* How many words are left in `book_43_counts_filtered` after removing the stop words"
   ]
  },
  {
   "cell_type": "code",
   "execution_count": 126,
   "id": "a5bdf083",
   "metadata": {},
   "outputs": [
    {
     "data": {
      "text/plain": [
       "4034"
      ]
     },
     "execution_count": 126,
     "metadata": {},
     "output_type": "execute_result"
    }
   ],
   "source": [
    "### Write your code here\n",
    "book_43_counts_filtered.count()"
   ]
  },
  {
   "cell_type": "markdown",
   "id": "23ffd755",
   "metadata": {},
   "source": [
    "### Q12 \n",
    "\n",
    "* Create a function called *process_RDD* that combines the relevant steps you proposed above to make it convenient to apply them to the remaining four books. Your function should accept an input text file path and:\n",
    " * Reads in the file as a textRDD\n",
    " * Cleans and splits the line using `clean_split_line`\n",
    " * Filters out the stop words\n",
    " * Returns a word count RDD where each item is a tuple of words and its count.\n",
    " \n"
   ]
  },
  {
   "cell_type": "code",
   "execution_count": 127,
   "id": "eff5d5e8",
   "metadata": {},
   "outputs": [],
   "source": [
    "### Write your code here\n",
    "def process_RDD(file):\n",
    "    textRDD = sc.textFile(file)\n",
    "    test_mapped = textRDD.flatMap(clean_split_line)\n",
    "    text_no_stop = test_mapped.filter(lambda x: x.lower() not in list_of_stop_words)\n",
    "    text_no_stop_words = text_no_stop.map(lambda x: (x, 1))\n",
    "    text_count = text_no_stop_words.reduceByKey(lambda x,y: x+y)\n",
    "    return text_count\n"
   ]
  },
  {
   "cell_type": "markdown",
   "id": "ba59c9c5",
   "metadata": {},
   "source": [
    "### Q13 \n",
    "\n",
    "Apply the function `process_RDD` to `book_84`, `book_398` and `book_3296` and save the results to variables `book_84_counts_filtered`, `book_398_counts_filtered` and `book_3296_counts_filtered` respectively. How many distinct words does each book contain after filtering the stop words.\n"
   ]
  },
  {
   "cell_type": "code",
   "execution_count": 128,
   "id": "08a24f66",
   "metadata": {},
   "outputs": [
    {
     "name": "stdout",
     "output_type": "stream",
     "text": [
      "7016 is in the book_84 filtered text\n",
      "2421 is in the book_398 filtered text\n",
      "7293 is in the book_3296 filtered text\n"
     ]
    }
   ],
   "source": [
    "### Write your code here\n",
    "book_84_counts_filtered = process_RDD('data/84.txt').count()\n",
    "book_398_counts_filtered = process_RDD('data/398.txt').count()\n",
    "book_3296_counts_filtered = process_RDD('data/3296.txt').count()\n",
    "print(f'{book_84_counts_filtered} is in the book_84 filtered text')\n",
    "print(f'{book_398_counts_filtered} is in the book_398 filtered text')\n",
    "print(f'{book_3296_counts_filtered} is in the book_3296 filtered text')"
   ]
  },
  {
   "cell_type": "markdown",
   "id": "7fb9680f",
   "metadata": {},
   "source": [
    "### Q14 \n",
    "\n",
    "We discussed how to evaluate similarity between two texts using the number of words they share. We hypothesized that books that are similar should have more words in common than books that are dissimilar. If that holds, `book_398` and `book_3296`, which both pertain to religion, will have more words in common than, say, `book_84` and `book_398`. Test this hypothesis by writing code that compares and prints the number of words shared between `book_398` and `book_3296` and then between `book_84` and `book_398`.\n"
   ]
  },
  {
   "cell_type": "code",
   "execution_count": 129,
   "id": "ac6b73e0",
   "metadata": {},
   "outputs": [
    {
     "name": "stdout",
     "output_type": "stream",
     "text": [
      "book_398 and book_3296 shared 1790 words\n",
      "book_84 and book_398 shared 1691 words\n"
     ]
    }
   ],
   "source": [
    "### Write your code here\n",
    "book_398_counts_filtered = process_RDD('data/398.txt')\n",
    "book_3296_counts_filtered = process_RDD('data/3296.txt')\n",
    "book_398_3296 = book_398_counts_filtered.join(book_3296_counts_filtered).count()\n",
    "print(f'book_398 and book_3296 shared {book_398_3296} words')\n",
    "\n",
    "book_84_counts_filtered = process_RDD('data/84.txt')\n",
    "book_398_counts_filtered = process_RDD('data/398.txt')\n",
    "book_84_398 = book_84_counts_filtered.join(book_398_counts_filtered).count()\n",
    "print(f'book_84 and book_398 shared {book_84_398} words')\n"
   ]
  },
  {
   "cell_type": "markdown",
   "id": "cef9f326",
   "metadata": {},
   "source": [
    "### Q15\n",
    "\n",
    "* Based on the above, do you think counting the number of shared words is a good idea as a distance metric for evaluating topic similarity? Justify your answer?\n",
    "* Hint: What do *book_84* and *book_3296* have in common? "
   ]
  },
  {
   "cell_type": "markdown",
   "id": "6587ae14",
   "metadata": {},
   "source": [
    "#### Write your answer here"
   ]
  },
  {
   "cell_type": "code",
   "execution_count": 132,
   "id": "8f5bb247",
   "metadata": {},
   "outputs": [
    {
     "name": "stdout",
     "output_type": "stream",
     "text": [
      "book_398 and book_3296 shared 3608 words\n"
     ]
    },
    {
     "name": "stderr",
     "output_type": "stream",
     "text": [
      "\r",
      "[Stage 537:============================>                            (1 + 1) / 2]\r",
      "\r",
      "                                                                                \r"
     ]
    }
   ],
   "source": [
    "book_398_counts_filtered = process_RDD('data/84.txt')\n",
    "book_3296_counts_filtered = process_RDD('data/3296.txt')\n",
    "book_398_3296 = book_398_counts_filtered.join(book_3296_counts_filtered).count()\n",
    "print(f'book_398 and book_3296 shared {book_398_3296} words')"
   ]
  },
  {
   "cell_type": "markdown",
   "id": "d6590f27",
   "metadata": {},
   "source": [
    "No. Based on the common words number in the above analysis, book 398 and book 3296 have more common words than the results in book 398 and book 3296. Counting the number of shared words is NOT a good idea as a distance metric for evaluating topic similarity."
   ]
  },
  {
   "cell_type": "markdown",
   "id": "a6f8f857",
   "metadata": {},
   "source": [
    "## Part II \n",
    "\n",
    "Another approach to estimating similarity consists of computing the Euclidean distance across a set of words. For example, suppose we have 3 documents A, B and C with the following counts for the words `evolution`, `DNA`, `biology` and `finance`. \n",
    "\n",
    "```python \n",
    "A = [4, 9, 6, 8]\n",
    "B = [3, 7, 7, 10]\n",
    "C = [15, 10, 1, 1]\n",
    "```\n",
    "Although all documents contain exactly the four words, the number of times these words appear in each book may be indicative of thier topic. For example, documents `A` and `B` are more likely to be business related since they contain the word `finance` more frequently (8 and 10 times respectively). Document `C` may be a technical document since it focuses on more technical words (`evolution` and `DNA`) and less on the words `finance`.\n",
    "\n",
    "The Euclidean distance, which can be computed using the `scikit` snippet below, is more indicative of topic-relatedness between the two documents.\n",
    "\n",
    "```python\n",
    "from scipy.spatial.distance import euclidean \n",
    "print(f\"The Euclidean distance between A and B is: {euclidean(A, B)}\")\n",
    "\n",
    "print(f\"The Euclidean distance between A and C is: {euclidean(A, C)}\")\n",
    "\n",
    "print(f\"The Euclidean distance between B and C is: {euclidean(B, C)}\")\n",
    "```\n"
   ]
  },
  {
   "cell_type": "markdown",
   "id": "9abdc35e",
   "metadata": {},
   "source": [
    "### Q16\n",
    "\n",
    "To calculate the Euclidean distance, we must first identify the set of words by which we will compare the documents. Here, we will explore the words that are common to all 4 documents. We will store the data in a matrix called `counts_matrix`.\n",
    "\n",
    "Start by finding the words that are common to all four documents after stop-word filtering and store the counts for each word in a column of `counts_matrix`. \n",
    "\n",
    "To take the previous example, you can generate an emtpy matrix with 3 lines (documents `A`, `B` and `C`) and 4 columns (words `evolution`, `DNA`, `biology` and `finance`) using the following code.\n",
    "\n",
    "```python\n",
    "import numpy as np\n",
    "counts_matrix = np.zeros([3,4])\n",
    "```\n",
    "\n",
    "After generting the counts, you can fill the counts for a document, say `A`, using the following code:\n",
    "\n",
    "```python\n",
    "counts_matrix[0, :] = [4, 9, 6, 8] \n",
    "```\n",
    "* Other than for building `counts_matrix` you should exclusively use operations or actions on the `RDD` to answer this question. \n",
    "  * Code that uses methods such as `some_rdd.X().Y().Z()...` is allowed\n",
    "  * Code that uses functions such as `some_func(...)` is not allowed\n"
   ]
  },
  {
   "cell_type": "code",
   "execution_count": 156,
   "id": "c0aede68",
   "metadata": {},
   "outputs": [
    {
     "data": {
      "text/plain": [
       "array([[98., 19., 16., ...,  1.,  1.,  1.],\n",
       "       [98., 23., 21., ...,  1.,  2.,  1.],\n",
       "       [93., 15., 10., ...,  1.,  1.,  1.],\n",
       "       [97., 37., 16., ...,  1.,  1.,  1.]])"
      ]
     },
     "execution_count": 156,
     "metadata": {},
     "output_type": "execute_result"
    }
   ],
   "source": [
    "### Write your code here\n",
    "import numpy as np\n",
    "shared_for_books = book_43_counts_filtered.join(book_84_counts_filtered).join(book_398_counts_filtered).join(book_3296_counts_filtered)\n",
    "shared_words = shared_for_books.collect()\n",
    "numbers = shared_for_books.count()\n",
    "numbers\n",
    "counts_matrix = np.zeros([4,1162])\n",
    "A = counts_matrix[0, :] = shared_for_books.map(lambda x: x[1][0][0][0]).collect()\n",
    "B = counts_matrix[1, :] = shared_for_books.map(lambda x: x[1][0][0][1]).collect()\n",
    "C = counts_matrix[2, :] = shared_for_books.map(lambda x: x[1][0][1]).collect()\n",
    "D = counts_matrix[3, :] = shared_for_books.map(lambda x: x[1][1]).collect()\n",
    "counts_matrix\n"
   ]
  },
  {
   "cell_type": "markdown",
   "id": "124bcdd8",
   "metadata": {},
   "source": [
    "### Q17\n",
    "\n",
    "Compute the Euclidean distance between `book_398` and `book_3296`, which both talk about religion and `book_84` and `book_398`. What do you conclude about using the Euclidean distance for evaluating topic relatedness across documents?\n"
   ]
  },
  {
   "cell_type": "code",
   "execution_count": 153,
   "id": "7b6a81dd",
   "metadata": {},
   "outputs": [
    {
     "name": "stdout",
     "output_type": "stream",
     "text": [
      "The Euclidean distance between book_398 and book_3296 is 1156.6628722320086\n",
      "The Euclidean distance between book_84 and book_398 is 751.6688100486809\n"
     ]
    }
   ],
   "source": [
    "### Write your code here\n",
    "from scipy.spatial.distance import euclidean\n",
    "print(f'The Euclidean distance between book_398 and book_3296 is {euclidean(C,D)}')\n",
    "print(f'The Euclidean distance between book_84 and book_398 is {euclidean(B,C)}')"
   ]
  },
  {
   "cell_type": "markdown",
   "id": "89981b46",
   "metadata": {},
   "source": [
    "#### Write your justification here\n",
    "\n",
    "Euclidean distance is better than the counts of the shared words between the documnet for the similarity estimation."
   ]
  },
  {
   "cell_type": "markdown",
   "id": "3f4e54e6",
   "metadata": {},
   "source": [
    "### Q18\n",
    "\n",
    "Bonus question (5 points): Can you think of a few things we could do to improve similarity between documents that pertain to the same topic. Justify your answer without giving code"
   ]
  },
  {
   "cell_type": "markdown",
   "id": "5c8c6de1",
   "metadata": {},
   "source": [
    "#### Write your answer here\n"
   ]
  },
  {
   "cell_type": "markdown",
   "id": "aedf1d74",
   "metadata": {},
   "source": [
    "## Part III\n",
    "\n",
    "In this part we will build some basic analytics for a dataset consisting of flight arrival and departure details for all commercial flights within the USA in one month. While this dataset can be managed using Pandas (<1M records), scaling to a yearly or longer timeframe will greatly benefit from using a distributed computing framework such as `Spark`.\n",
    "\n",
    "Here, you should use exclusively `SparkDatFrames. \n",
    "\n",
    "We want to analyze this dataset to better schedule trips.  For example:\n",
    " * Avoid airlines carriers that are most often associated with delays.\n",
    " * Avoid departure days where delays are most frequent.\n",
    " * Avoid airports which are associated with delays or long taxxying time.\n",
    "* etc.\n",
    " \n",
    "\n",
    "The information about the fields contained in the data file can be found [here](https://dataverse.harvard.edu/dataset.xhtml;jsessionid=0414e25969eccd0e88ae4d64fa0b?persistentId=doi%3A10.7910%2FDVN%2FHG7NV7&version=&q=&fileTypeGroupFacet=&fileTag=%221.+Documentation%22&fileSortField=date&fileSortOrder=desc)\n"
   ]
  },
  {
   "cell_type": "markdown",
   "id": "149805af",
   "metadata": {},
   "source": [
    "### Q19\n",
    "\n",
    "Load the file `flight_info.csv` into a spark `DataFrame` called `fight_info`.\n",
    "\n",
    "  * Note that you will need to create a sparkSession prior to loading the data\n",
    "  \n",
    "* How many entries does the file contain?\n",
    "\n"
   ]
  },
  {
   "cell_type": "code",
   "execution_count": 178,
   "id": "3ad5e6ad",
   "metadata": {},
   "outputs": [
    {
     "data": {
      "text/plain": [
       "450017"
      ]
     },
     "execution_count": 178,
     "metadata": {},
     "output_type": "execute_result"
    }
   ],
   "source": [
    "### Write your code here\n",
    "from pyspark.sql import SparkSession \n",
    "pyspark = SparkSession.builder.getOrCreate()\n",
    "flight_info = pyspark.read.csv(\"data/flight_info.csv\", header=True)\n",
    "flight_info.count()"
   ]
  },
  {
   "cell_type": "markdown",
   "id": "4fad81f1",
   "metadata": {},
   "source": [
    "### Q20\n",
    "\n",
    "Use `pySpark-SQL` or `pandas-like syntax to compute the airlines represented in this dataset\n",
    "The airline information is stored in a field called UniqueCarrier\n",
    "* UniqueCarrier: Represents the unique carrier code (ex.AA = American Airlines) \n"
   ]
  },
  {
   "cell_type": "code",
   "execution_count": 139,
   "id": "73fd7b0b",
   "metadata": {},
   "outputs": [
    {
     "name": "stdout",
     "output_type": "stream",
     "text": [
      "+-------------+\n",
      "|UniqueCarrier|\n",
      "+-------------+\n",
      "|           UA|\n",
      "|           NK|\n",
      "|           AA|\n",
      "|           EV|\n",
      "|           B6|\n",
      "|           DL|\n",
      "|           OO|\n",
      "|           F9|\n",
      "|           HA|\n",
      "|           AS|\n",
      "|           VX|\n",
      "|           WN|\n",
      "+-------------+\n",
      "\n"
     ]
    }
   ],
   "source": [
    "### Write your code here\n",
    "flight_info.createOrReplaceTempView('flight_info')\n",
    "pyspark.sql('SELECT DISTINCT UniqueCarrier FROM flight_info').show()"
   ]
  },
  {
   "cell_type": "markdown",
   "id": "1349b2f5",
   "metadata": {},
   "source": [
    "### Q21\n",
    "\n",
    "The data file contains various other fields, two of which are useful for answering the next question.\n",
    "\n",
    "* CRSDepTime: Represents the scheduled departure time\n",
    "* DepTime: Represents the actual departure time\n",
    "\n",
    "Compute the number of flights delayed per each carried code represented in this dataset. Sort the data by decreasing order of delays.\n",
    "  * A delay is observed when `DepTime` > `CRSDepTime`\n"
   ]
  },
  {
   "cell_type": "code",
   "execution_count": 179,
   "id": "c72cff25",
   "metadata": {},
   "outputs": [
    {
     "name": "stderr",
     "output_type": "stream",
     "text": [
      "\r",
      "[Stage 712:=====================>                                   (3 + 5) / 8]\r"
     ]
    },
    {
     "name": "stdout",
     "output_type": "stream",
     "text": [
      "+-------------+--------------+\n",
      "|UniqueCarrier|Delayed_number|\n",
      "+-------------+--------------+\n",
      "|           WN|         54557|\n",
      "|           DL|         28962|\n",
      "|           AA|         26291|\n",
      "|           UA|         19594|\n",
      "|           OO|         17924|\n",
      "|           EV|         12340|\n",
      "|           B6|         10406|\n",
      "|           AS|          4966|\n",
      "|           NK|          4435|\n",
      "|           F9|          3181|\n",
      "|           VX|          2871|\n",
      "|           HA|          2265|\n",
      "+-------------+--------------+\n",
      "\n"
     ]
    },
    {
     "name": "stderr",
     "output_type": "stream",
     "text": [
      "\r",
      "                                                                                \r"
     ]
    }
   ],
   "source": [
    "### Write your code here\n",
    "delayed_flight = pyspark.sql('SELECT UniqueCarrier, count(*) AS Delayed_number FROM flight_info WHERE DepTime > CRSDepTime GROUP BY UniqueCarrier ORDER BY Delayed_number DESC')\n",
    "delayed_flight.show()"
   ]
  },
  {
   "cell_type": "markdown",
   "id": "1645593b",
   "metadata": {},
   "source": [
    "### Q22\n",
    "\n",
    " Use the file `airlines.csv` to find the the complete name of the airline. Here, you are required to load the file as a pyspark DataFrame; call it `airlines_info`, and repeat the query above while including the `flights.csv `file in your query ( requires doing a `join`) so that you can also display the full name of the carrier (second column). \n",
    "\n",
    "The result will look (approximately) like:\n",
    "\n",
    "```\n",
    "[Row(UniqueCarrier='WN', first(_c1)='Southwest Airlines', count=SOME_count),\n",
    " Row(UniqueCarrier='DL', first(_c1)='Delta Air Lines', count=SOME_count),\n",
    " Row(UniqueCarrier='AA', first(_c1)='American Airlines', count=SOME_count),\n",
    " ...\n",
    " ]\n",
    "```\n",
    "\n",
    "The carrier code in the `airlines.csv` file is provided in the 4th (1-based) column\n",
    "\n",
    "Note that the file `airlines.csv` does not have column header. Hence, you need to print one line of your dataset to see what names Spark gave to the columns. Use the name provided by Spark in your query."
   ]
  },
  {
   "cell_type": "code",
   "execution_count": 180,
   "id": "30cea22b",
   "metadata": {},
   "outputs": [
    {
     "name": "stdout",
     "output_type": "stream",
     "text": [
      "+-------------+--------------------+--------------+\n",
      "|UniqueCarrier|                 _c1|Delayed_number|\n",
      "+-------------+--------------------+--------------+\n",
      "|           WN|  Southwest Airlines|         54557|\n",
      "|           DL|     Delta Air Lines|         28962|\n",
      "|           AA|   American Airlines|         26291|\n",
      "|           UA|     United Airlines|         19594|\n",
      "|           OO|             SkyWest|         17924|\n",
      "|           EV|Atlantic Southeas...|         12340|\n",
      "|           B6|     JetBlue Airways|         10406|\n",
      "|           AS|     Alaska Airlines|          4966|\n",
      "|           NK|     Spirit Airlines|          4435|\n",
      "|           F9|   Frontier Airlines|          3181|\n",
      "|           VX|      Virgin America|          2871|\n",
      "|           HA|   Hawaiian Airlines|          2265|\n",
      "+-------------+--------------------+--------------+\n",
      "\n"
     ]
    }
   ],
   "source": [
    "### Write your code here\n",
    "airlines_info = pyspark.read.csv(\"data/airlines.csv\")\n",
    "airlines_info.take(5)\n",
    "airlines_info.createOrReplaceTempView('airlines_info')\n",
    "delayed_flight.createOrReplaceTempView('delayed_flight')\n",
    "pyspark.sql('SELECT UniqueCarrier, airlines_info._c1, Delayed_number FROM delayed_flight INNER JOIN airlines_info ON airlines_info._c3 = delayed_flight.UniqueCarrier ORDER BY Delayed_number DESC').show()            \n",
    "            "
   ]
  },
  {
   "cell_type": "markdown",
   "id": "4e0123a8",
   "metadata": {},
   "source": [
    "### Q23\n",
    "\n",
    "Compute the number of delays per company per day. The day is encoded as an integer in the column `DayOfWeek` in `fight_info`. You can display the day as an integer or map it into a string name of the week.\n",
    "Sort the data by airline code (UniqueCarrier) and by increasing values of DayOfWeek\n",
    "\n",
    "\n",
    "You results should look like the following\n",
    "\n"
   ]
  },
  {
   "cell_type": "code",
   "execution_count": 188,
   "id": "f9971baa",
   "metadata": {},
   "outputs": [
    {
     "name": "stderr",
     "output_type": "stream",
     "text": [
      "\r",
      "[Stage 740:=========================================>           (157 + 8) / 200]\r",
      "\r",
      "                                                                                \r"
     ]
    },
    {
     "name": "stdout",
     "output_type": "stream",
     "text": [
      "+-------------+---------+--------------+\n",
      "|UniqueCarrier|DayOfWeek|Delayed_number|\n",
      "+-------------+---------+--------------+\n",
      "|           AA|        1|          5117|\n",
      "|           AA|        7|          4645|\n",
      "|           AA|        2|          3688|\n",
      "|           AA|        4|          3575|\n",
      "|           AA|        5|          3525|\n",
      "|           AA|        3|          2941|\n",
      "|           AA|        6|          2800|\n",
      "|           AS|        7|           932|\n",
      "|           AS|        1|           872|\n",
      "|           AS|        4|           728|\n",
      "|           AS|        2|           669|\n",
      "|           AS|        5|           630|\n",
      "|           AS|        3|           618|\n",
      "|           AS|        6|           517|\n",
      "|           B6|        1|          1892|\n",
      "|           B6|        7|          1884|\n",
      "|           B6|        2|          1787|\n",
      "|           B6|        5|          1309|\n",
      "|           B6|        4|          1254|\n",
      "|           B6|        3|          1253|\n",
      "+-------------+---------+--------------+\n",
      "only showing top 20 rows\n",
      "\n"
     ]
    }
   ],
   "source": [
    "### Write your code here\n",
    "delayed_flight = pyspark.sql('SELECT UniqueCarrier, DayOfWeek, count(DepTime) AS Delayed_number FROM flight_info WHERE DepTime > CRSDepTime GROUP BY UniqueCarrier, DayOfWeek ORDER BY UniqueCarrier, Delayed_number DESC').show()            "
   ]
  },
  {
   "cell_type": "markdown",
   "id": "4c955760",
   "metadata": {},
   "source": [
    "### Q24  \n",
    "\n",
    "Counting the number of delayed flights per airline is misleading, as airlines with more flights are more likley to have delays than companies with substantially fiewer flights. \n",
    "\n",
    "Repeat the same query above but, for each carrier, normalize the counts of delays by the total number of flights for that carrier. \n"
   ]
  },
  {
   "cell_type": "code",
   "execution_count": 193,
   "id": "b9ef5460",
   "metadata": {},
   "outputs": [
    {
     "name": "stdout",
     "output_type": "stream",
     "text": [
      "+-------------+---------+--------------+------+-------------------+\n",
      "|UniqueCarrier|DayOfWeek|Delayed_number|flight|          normalize|\n",
      "+-------------+---------+--------------+------+-------------------+\n",
      "|           AA|        1|          5117| 12165| 0.4206329634196465|\n",
      "|           AA|        7|          4645| 11678| 0.3977564651481418|\n",
      "|           AA|        4|          3575|  9894|0.36133009904992924|\n",
      "|           AA|        5|          3525|  9944|0.35448511665325827|\n",
      "|           AA|        6|          2800|  8197| 0.3415883859948762|\n",
      "|           AA|        2|          3688| 11543|0.31950099627479855|\n",
      "|           AA|        3|          2941|  9711|0.30285243538255585|\n",
      "|           AS|        7|           932|  2395|0.38914405010438413|\n",
      "|           AS|        4|           728|  1951| 0.3731419784725782|\n",
      "|           AS|        1|           872|  2454| 0.3553382233088835|\n",
      "|           AS|        3|           618|  1854| 0.3333333333333333|\n",
      "|           AS|        5|           630|  1960|0.32142857142857145|\n",
      "|           AS|        2|           669|  2299|0.29099608525445847|\n",
      "|           AS|        6|           517|  1798| 0.2875417130144605|\n",
      "|           B6|        7|          1884|  3918|0.48085758039816234|\n",
      "|           B6|        1|          1892|  4130|0.45811138014527847|\n",
      "|           B6|        2|          1787|  3980|0.44899497487437184|\n",
      "|           B6|        5|          1309|  3268|0.40055079559363527|\n",
      "|           B6|        3|          1253|  3164|0.39601769911504425|\n",
      "|           B6|        4|          1254|  3276|0.38278388278388276|\n",
      "+-------------+---------+--------------+------+-------------------+\n",
      "only showing top 20 rows\n",
      "\n"
     ]
    }
   ],
   "source": [
    "### Write your code here\n",
    "\n",
    "delayed_flight = pyspark.sql('SELECT UniqueCarrier, DayOfWeek, count(DepTime) AS Delayed_number FROM flight_info WHERE DepTime > CRSDepTime GROUP BY UniqueCarrier, DayOfWeek ORDER BY UniqueCarrier, Delayed_number DESC')\n",
    "flight_number = pyspark.sql('SELECT UniqueCarrier, DayOfWeek, count(*) AS flight FROM flight_info GROUP BY UniqueCarrier, DayOfWeek ORDER BY UniqueCarrier, flight DESC')\n",
    "flight_number.createOrReplaceTempView('flight_number')\n",
    "delayed_flight.createOrReplaceTempView('delayed_flight')\n",
    "combine_flight = pyspark.sql('SELECT delayed_flight.UniqueCarrier, delayed_flight.DayOfWeek, Delayed_number, flight_number.flight FROM delayed_flight INNER JOIN flight_number ON delayed_flight.UniqueCarrier = flight_number.UniqueCarrier AND delayed_flight.DayOfWeek = flight_number.DayOfWeek ORDER BY UniqueCarrier')\n",
    "combine_flight.createOrReplaceTempView('combine_flight')\n",
    "pyspark.sql('SELECT UniqueCarrier,DayOfWeek,Delayed_number,flight, Delayed_number/flight as normalize FROM combine_flight ORDER BY UniqueCarrier, normalize DESC').show()"
   ]
  },
  {
   "cell_type": "markdown",
   "id": "5b73b3e4",
   "metadata": {},
   "source": [
    "### Q25 \n",
    "\n",
    "Time the query above. How long did it take to run. \n",
    "  * Make sure you run the code a few times and compute the average run time.\n",
    "  * The above should be easy to implement if you use the correct Jupyter Notebook `magic` function\n",
    "  "
   ]
  },
  {
   "cell_type": "code",
   "execution_count": 150,
   "id": "7df43da8",
   "metadata": {},
   "outputs": [
    {
     "name": "stdout",
     "output_type": "stream",
     "text": [
      "Averge time is: 4.154 ms.\n"
     ]
    }
   ],
   "source": [
    "### Write your code here\n",
    "import numpy as np\n",
    "time = (4.39, 3.79, 4.86, 4.05, 3.68)\n",
    "print(f'Averge time is: {np.mean(time)} ms.')"
   ]
  },
  {
   "cell_type": "markdown",
   "id": "604e85e0",
   "metadata": {},
   "source": [
    "### Q26 \n",
    "\n",
    "Use one of the techniques covered in class to accelerate this query. Time your query to see by how much the run time was improved"
   ]
  },
  {
   "cell_type": "code",
   "execution_count": 194,
   "id": "2e951d64",
   "metadata": {},
   "outputs": [
    {
     "name": "stderr",
     "output_type": "stream",
     "text": [
      "21/11/09 08:51:41 WARN CacheManager: Asked to cache already cached data.\n",
      "21/11/09 08:51:41 WARN CacheManager: Asked to cache already cached data.\n",
      "21/11/09 08:51:41 WARN CacheManager: Asked to cache already cached data.\n"
     ]
    },
    {
     "data": {
      "text/plain": [
       "DataFrame[UniqueCarrier: string, DayOfWeek: string, Delayed_number: bigint, flight: bigint]"
      ]
     },
     "execution_count": 194,
     "metadata": {},
     "output_type": "execute_result"
    }
   ],
   "source": [
    "### Write your code here\n",
    "flight_number.cache()\n",
    "delayed_flight.cache()\n",
    "combine_flight.cache()"
   ]
  },
  {
   "cell_type": "markdown",
   "id": "8a87a433",
   "metadata": {},
   "source": [
    "### Q27 \n",
    "\n",
    "Is the departure delay (i.e., DepTime - CRSDepTime) predictive of the arrival delay (ArrTime > CRSArrTime)?\n",
    "Use an approach of your choice (e.g. `skelearn` which we covered in class or `Spark`) to model as a linear regression the arrival delay as a function of the departure delay. \n",
    "\n"
   ]
  },
  {
   "cell_type": "code",
   "execution_count": 145,
   "id": "f8dbd52d",
   "metadata": {},
   "outputs": [
    {
     "name": "stdout",
     "output_type": "stream",
     "text": [
      "   Unnamed: 0  DayOfWeek UniqueCarrier  FlightNum Origin Dest  CRSDepTime  \\\n",
      "0           0          2            AA        494    CLT  PHX        1619   \n",
      "1           1          3            AA        494    CLT  PHX        1619   \n",
      "2           2          4            AA        494    CLT  PHX        1619   \n",
      "3           3          5            AA        494    CLT  PHX        1619   \n",
      "4           4          6            AA        494    CLT  PHX        1619   \n",
      "\n",
      "   DepTime  TaxiOut  WheelsOff  ...  Cancelled  CancellationCode  Distance  \\\n",
      "0   1616.0     17.0     1633.0  ...        0.0               NaN    1773.0   \n",
      "1   1614.0     13.0     1627.0  ...        0.0               NaN    1773.0   \n",
      "2   1611.0     17.0     1628.0  ...        0.0               NaN    1773.0   \n",
      "3   1656.0     18.0     1714.0  ...        0.0               NaN    1773.0   \n",
      "4   1632.0     17.0     1649.0  ...        0.0               NaN    1773.0   \n",
      "\n",
      "   CarrierDelay  WeatherDelay NASDelay  SecurityDelay  LateAircraftDelay  \\\n",
      "0           NaN           NaN      NaN            NaN                NaN   \n",
      "1           NaN           NaN      NaN            NaN                NaN   \n",
      "2           NaN           NaN      NaN            NaN                NaN   \n",
      "3          33.0           0.0      0.0            0.0                0.0   \n",
      "4           NaN           NaN      NaN            NaN                NaN   \n",
      "\n",
      "   delay_dep  delay_arr  \n",
      "0       -3.0      -14.0  \n",
      "1       -5.0      -35.0  \n",
      "2       -8.0      -30.0  \n",
      "3       37.0       73.0  \n",
      "4       13.0        2.0  \n",
      "\n",
      "[5 rows x 24 columns]\n"
     ]
    },
    {
     "data": {
      "text/plain": [
       "LinregressResult(slope=0.22335475547344275, intercept=-20.14816658160143, rvalue=0.11616972584526296, pvalue=0.0, stderr=0.002876461667436919, intercept_stderr=0.4374235372787865)"
      ]
     },
     "execution_count": 145,
     "metadata": {},
     "output_type": "execute_result"
    }
   ],
   "source": [
    "### Write your code here\n",
    "import pandas as pd\n",
    "flight = pd.read_csv('data/flight_info.csv')\n",
    "flight[\"delay_dep\"] = flight[\"DepTime\"] - flight[\"CRSDepTime\"]\n",
    "flight[\"delay_arr\"] = flight[\"ArrTime\"] - flight[\"CRSArrTime\"]\n",
    "\n",
    "print(flight.head())\n",
    "\n",
    "flight_1 = flight[flight['delay_dep'].notna() & flight['delay_arr'].notna()]\n",
    "\n",
    "from scipy.stats import linregress\n",
    "\n",
    "linreg = linregress(flight_1[\"delay_dep\"], flight_1[\"delay_arr\"])\n",
    "linreg\n"
   ]
  },
  {
   "cell_type": "code",
   "execution_count": null,
   "id": "ec87aa07",
   "metadata": {},
   "outputs": [],
   "source": []
  }
 ],
 "metadata": {
  "kernelspec": {
   "display_name": "Python 3 (ipykernel)",
   "language": "python",
   "name": "python3"
  },
  "language_info": {
   "codemirror_mode": {
    "name": "ipython",
    "version": 3
   },
   "file_extension": ".py",
   "mimetype": "text/x-python",
   "name": "python",
   "nbconvert_exporter": "python",
   "pygments_lexer": "ipython3",
   "version": "3.9.7"
  }
 },
 "nbformat": 4,
 "nbformat_minor": 5
}
